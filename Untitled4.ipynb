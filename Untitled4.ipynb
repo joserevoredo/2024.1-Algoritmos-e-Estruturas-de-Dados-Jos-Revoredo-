{
  "nbformat": 4,
  "nbformat_minor": 0,
  "metadata": {
    "colab": {
      "provenance": [],
      "authorship_tag": "ABX9TyPNPIg+Iu2BiKd/xD0wKJTw",
      "include_colab_link": true
    },
    "kernelspec": {
      "name": "python3",
      "display_name": "Python 3"
    },
    "language_info": {
      "name": "python"
    }
  },
  "cells": [
    {
      "cell_type": "markdown",
      "metadata": {
        "id": "view-in-github",
        "colab_type": "text"
      },
      "source": [
        "<a href=\"https://colab.research.google.com/github/joserevoredo/2024.1-Algoritmos-e-Estruturas-de-Dados-Jos-Revoredo-/blob/main/Untitled4.ipynb\" target=\"_parent\"><img src=\"https://colab.research.google.com/assets/colab-badge.svg\" alt=\"Open In Colab\"/></a>"
      ]
    },
    {
      "cell_type": "code",
      "source": [
        "name = \"Consulte o curso\"\n",
        "name2 = \"seu curso é:\"\n",
        "print(name)\n",
        "print(name2)\n",
        "numero = 4\n",
        "if numero == 1:\n",
        "  print(\"Técnico_em_Informática_Subseqüente\")\n",
        "if numero == 2:\n",
        "  print(\"Técnico em Informática EJA\")\n",
        "if numero == 3:\n",
        "  print(\"Técnico em Cooperativismo\")\n",
        "if numero == 4:\n",
        "  print(\"Técnico em Cooperativismo EJA\")\n",
        "if numero == 5:\n",
        "  print(\"Licenciatura em Física\")\n",
        "elif numero >= 6:\n",
        "  print(\"código inexistente no Instituto\")"
      ],
      "metadata": {
        "colab": {
          "base_uri": "https://localhost:8080/"
        },
        "id": "zNPNVruehWuM",
        "outputId": "5009e7df-8876-4eaf-c9b6-f763c02e789b"
      },
      "execution_count": 55,
      "outputs": [
        {
          "output_type": "stream",
          "name": "stdout",
          "text": [
            "Consulte o curso\n",
            "seu curso é:\n",
            "Técnico em Cooperativismo EJA\n"
          ]
        }
      ]
    },
    {
      "cell_type": "code",
      "source": [
        "texto01 = \"jesus\"\n",
        "texto02 = \"carambola\"\n",
        "print(\"Texto_01=\")\n",
        "print(texto01)\n",
        "print(\"Texto_02=\")\n",
        "print(texto02)\n",
        "print(\"Comprimento_Texto_01=\")\n",
        "print(len(texto01))\n",
        "print(\"Comprimento_Texto_02 = \")\n",
        "print(len(texto02))\n",
        "\n"
      ],
      "metadata": {
        "colab": {
          "base_uri": "https://localhost:8080/"
        },
        "id": "kcMFw7XmiHEz",
        "outputId": "021234e6-2b2b-4c12-fe7f-9eae4399f395"
      },
      "execution_count": 69,
      "outputs": [
        {
          "output_type": "stream",
          "name": "stdout",
          "text": [
            "Texto_01=\n",
            "jesus\n",
            "Texto_02=\n",
            "carambola\n",
            "Comprimento_Texto_01=\n",
            "5\n",
            "Comprimento_Texto_02 = \n",
            "9\n"
          ]
        }
      ]
    },
    {
      "cell_type": "code",
      "source": [
        "texto01 = \"jesfgktyy\"\n",
        "texto02 = \"carambola\"\n",
        "Comprimento_Texto_01 = (len(texto01))\n",
        "Comprimento_Texto_02 = (len(texto02))\n",
        "if Comprimento_Texto_01 == Comprimento_Texto_02:\n",
        "  print(\"Texto_01 e Texto_02 tem o mesmo comprimento\")\n",
        "if Comprimento_Texto_01 > Comprimento_Texto_02:\n",
        "  print(\"Texto_01 é maior que Texto_02\")\n",
        "if Comprimento_Texto_01 < Comprimento_Texto_02:\n",
        "  print(\"Texto_02 é maior que Texto_01\")\n",
        "\n",
        "\n",
        "\n",
        "\n"
      ],
      "metadata": {
        "colab": {
          "base_uri": "https://localhost:8080/"
        },
        "id": "6ccMOVj_toER",
        "outputId": "929a26c4-c7da-4a9b-befa-c8ba00c3053e"
      },
      "execution_count": 80,
      "outputs": [
        {
          "output_type": "stream",
          "name": "stdout",
          "text": [
            "Texto_01 e Texto_02 tem o mesmo comprimento\n"
          ]
        }
      ]
    },
    {
      "cell_type": "code",
      "source": [
        "texto01 = \"cargffola\"\n",
        "texto02 = \"carambola\"\n",
        "if texto01 == texto02:\n",
        "    print(\"Texto_01 e Texto_02 tem o mesmo conteúdo\")\n",
        "else:\n",
        "    print(\"Texto_01 e Texto_02 não tem o mesmo conteúdo\")"
      ],
      "metadata": {
        "colab": {
          "base_uri": "https://localhost:8080/"
        },
        "id": "sN20uDVpwI22",
        "outputId": "a63c09f2-2d81-4835-a85c-19a3cd0a957c"
      },
      "execution_count": 88,
      "outputs": [
        {
          "output_type": "stream",
          "name": "stdout",
          "text": [
            "Texto_01 e Texto_02 não tem o mesmo conteúdo\n"
          ]
        }
      ]
    },
    {
      "cell_type": "code",
      "execution_count": 16,
      "metadata": {
        "colab": {
          "base_uri": "https://localhost:8080/"
        },
        "id": "GI5vHBZCb9rp",
        "outputId": "1346ae4b-c3ac-4759-cdaf-970650308ca6"
      },
      "outputs": [
        {
          "output_type": "stream",
          "name": "stdout",
          "text": [
            "-900\n"
          ]
        }
      ],
      "source": [
        "num=-1000\n",
        "if num < 0:\n",
        "  print(num +100)\n",
        "if num > 0:\n",
        "  print(num)\n"
      ]
    },
    {
      "cell_type": "code",
      "source": [
        "string_original = \"jblforte\"\n",
        "nova_string = string_original[2:-2]\n",
        "print(nova_string)\n"
      ],
      "metadata": {
        "colab": {
          "base_uri": "https://localhost:8080/"
        },
        "id": "950Gvuq2w_sn",
        "outputId": "f0996674-8c37-4f8e-d732-3411eca0cc55"
      },
      "execution_count": 91,
      "outputs": [
        {
          "output_type": "stream",
          "name": "stdout",
          "text": [
            "lfor\n"
          ]
        }
      ]
    }
  ]
}