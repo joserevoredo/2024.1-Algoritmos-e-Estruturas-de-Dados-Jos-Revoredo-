{
  "nbformat": 4,
  "nbformat_minor": 0,
  "metadata": {
    "colab": {
      "provenance": [],
      "authorship_tag": "ABX9TyMUJkCEf5LAQCk0Q2z+ZT6I",
      "include_colab_link": true
    },
    "kernelspec": {
      "name": "python3",
      "display_name": "Python 3"
    },
    "language_info": {
      "name": "python"
    }
  },
  "cells": [
    {
      "cell_type": "markdown",
      "metadata": {
        "id": "view-in-github",
        "colab_type": "text"
      },
      "source": [
        "<a href=\"https://colab.research.google.com/github/joserevoredo/2024.1-Algoritmos-e-Estruturas-de-Dados-Jos-Revoredo-/blob/main/C%C3%B3pia_de_Untitled2.ipynb\" target=\"_parent\"><img src=\"https://colab.research.google.com/assets/colab-badge.svg\" alt=\"Open In Colab\"/></a>"
      ]
    },
    {
      "cell_type": "code",
      "execution_count": null,
      "metadata": {
        "colab": {
          "base_uri": "https://localhost:8080/"
        },
        "id": "3LqVKY994PVV",
        "outputId": "134d5cd2-38fc-44fe-da63-8bd9da38b5ba"
      },
      "outputs": [
        {
          "output_type": "stream",
          "name": "stdout",
          "text": [
            "Olá Mundo\n"
          ]
        }
      ],
      "source": [
        "print(\"Olá Mundo\")"
      ]
    },
    {
      "cell_type": "code",
      "source": [
        "Nota01=10\n",
        "Nota02=10\n",
        "Nota03=10\n",
        "divisor=3\n",
        "print((Nota01+Nota02+Nota03)/divisor)"
      ],
      "metadata": {
        "colab": {
          "base_uri": "https://localhost:8080/"
        },
        "id": "nkjszlKf4URu",
        "outputId": "5ef9d9d8-1504-478f-8fa2-3c3ddc61e3e9"
      },
      "execution_count": null,
      "outputs": [
        {
          "output_type": "stream",
          "name": "stdout",
          "text": [
            "10.0\n"
          ]
        }
      ]
    },
    {
      "cell_type": "code",
      "source": [
        "nota1=9\n",
        "nota2=2\n",
        "nota3=6\n",
        "nota4=3\n",
        "numerodenotas=4\n",
        "print(\"Nota:\")\n",
        "print((nota1+nota2+nota3+nota4)/numerodenotas)"
      ],
      "metadata": {
        "colab": {
          "base_uri": "https://localhost:8080/"
        },
        "id": "Nt6IEVjr4Whe",
        "outputId": "329fcbb5-c327-45fb-ebf8-e1257645ccaf"
      },
      "execution_count": null,
      "outputs": [
        {
          "output_type": "stream",
          "name": "stdout",
          "text": [
            "Nota:\n",
            "5.0\n"
          ]
        }
      ]
    },
    {
      "cell_type": "code",
      "source": [
        "num01=1\n",
        "num02=5\n",
        "num03=8\n",
        "maiornumero=max(num01,num02,num03)\n",
        "print(\"maior numero é:\")\n",
        "print(maiornumero)"
      ],
      "metadata": {
        "colab": {
          "base_uri": "https://localhost:8080/"
        },
        "id": "nTckyi7h4aEy",
        "outputId": "d360b42c-88d1-441d-abbd-b4889fe45c1a"
      },
      "execution_count": null,
      "outputs": [
        {
          "output_type": "stream",
          "name": "stdout",
          "text": [
            "maior numero é:\n",
            "8\n"
          ]
        }
      ]
    },
    {
      "cell_type": "code",
      "source": [
        "print(\"Teste de qualidade\")\n",
        "limite_pH = 7.5\n",
        "limite_turbidez = 5.0\n",
        "ph=8\n",
        "turbidez=6\n",
        "\n",
        "if ph > limite_pH:\n",
        "            print(\"ALERTA: pH acima do limite! Valor medido: {pH}\")\n",
        "if turbidez > limite_turbidez:\n",
        "            print(\"ALERTA: Turbidez acima do limite! Valor medido: {turbidez}\")"
      ],
      "metadata": {
        "colab": {
          "base_uri": "https://localhost:8080/"
        },
        "id": "9DMAgMAV4elr",
        "outputId": "683df00a-bea3-4757-ba8a-e19a5f98d270"
      },
      "execution_count": null,
      "outputs": [
        {
          "output_type": "stream",
          "name": "stdout",
          "text": [
            "Teste de qualidade\n",
            "ALERTA: pH acima do limite! Valor medido: {pH}\n",
            "ALERTA: Turbidez acima do limite! Valor medido: {turbidez}\n"
          ]
        }
      ]
    },
    {
      "cell_type": "code",
      "source": [],
      "metadata": {
        "id": "GlZ_JWa25VaP"
      },
      "execution_count": null,
      "outputs": []
    }
  ]
}