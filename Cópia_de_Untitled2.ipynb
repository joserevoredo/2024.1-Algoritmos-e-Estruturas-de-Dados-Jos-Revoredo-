{
  "nbformat": 4,
  "nbformat_minor": 0,
  "metadata": {
    "colab": {
      "provenance": [],
      "authorship_tag": "ABX9TyPkS90/WDLe9Ai8CUo+a7rj",
      "include_colab_link": true
    },
    "kernelspec": {
      "name": "python3",
      "display_name": "Python 3"
    },
    "language_info": {
      "name": "python"
    }
  },
  "cells": [
    {
      "cell_type": "markdown",
      "metadata": {
        "id": "view-in-github",
        "colab_type": "text"
      },
      "source": [
        "<a href=\"https://colab.research.google.com/github/joserevoredo/2024.1-Algoritmos-e-Estruturas-de-Dados-Jos-Revoredo-/blob/main/C%C3%B3pia_de_Untitled2.ipynb\" target=\"_parent\"><img src=\"https://colab.research.google.com/assets/colab-badge.svg\" alt=\"Open In Colab\"/></a>"
      ]
    },
    {
      "cell_type": "code",
      "execution_count": null,
      "metadata": {
        "colab": {
          "base_uri": "https://localhost:8080/"
        },
        "id": "3LqVKY994PVV",
        "outputId": "134d5cd2-38fc-44fe-da63-8bd9da38b5ba"
      },
      "outputs": [
        {
          "output_type": "stream",
          "name": "stdout",
          "text": [
            "Olá Mundo\n"
          ]
        }
      ],
      "source": [
        "print(\"Olá Mundo\")"
      ]
    },
    {
      "cell_type": "code",
      "source": [
        "Nota01=10\n",
        "Nota02=10\n",
        "Nota03=10\n",
        "divisor=3\n",
        "print((Nota01+Nota02+Nota03)/divisor)"
      ],
      "metadata": {
        "colab": {
          "base_uri": "https://localhost:8080/"
        },
        "id": "nkjszlKf4URu",
        "outputId": "5ef9d9d8-1504-478f-8fa2-3c3ddc61e3e9"
      },
      "execution_count": null,
      "outputs": [
        {
          "output_type": "stream",
          "name": "stdout",
          "text": [
            "10.0\n"
          ]
        }
      ]
    },
    {
      "cell_type": "code",
      "source": [
        "nota1=9\n",
        "nota2=2\n",
        "nota3=6\n",
        "nota4=3\n",
        "numerodenotas=4\n",
        "print(\"Nota:\")\n",
        "print((nota1+nota2+nota3+nota4)/numerodenotas)"
      ],
      "metadata": {
        "colab": {
          "base_uri": "https://localhost:8080/"
        },
        "id": "Nt6IEVjr4Whe",
        "outputId": "329fcbb5-c327-45fb-ebf8-e1257645ccaf"
      },
      "execution_count": null,
      "outputs": [
        {
          "output_type": "stream",
          "name": "stdout",
          "text": [
            "Nota:\n",
            "5.0\n"
          ]
        }
      ]
    },
    {
      "cell_type": "code",
      "source": [
        "num01=1\n",
        "num02=5\n",
        "num03=8\n",
        "maiornumero=max(num01,num02,num03)\n",
        "print(\"maior numero é:\")\n",
        "print(maiornumero)"
      ],
      "metadata": {
        "colab": {
          "base_uri": "https://localhost:8080/"
        },
        "id": "nTckyi7h4aEy",
        "outputId": "d360b42c-88d1-441d-abbd-b4889fe45c1a"
      },
      "execution_count": null,
      "outputs": [
        {
          "output_type": "stream",
          "name": "stdout",
          "text": [
            "maior numero é:\n",
            "8\n"
          ]
        }
      ]
    },
    {
      "cell_type": "code",
      "source": [
        "print(\"Teste de qualidade\")\n",
        "limite_pH = 7.5\n",
        "limite_turbidez = 5.0\n",
        "ph=8\n",
        "turbidez=6\n",
        "\n",
        "if ph > limite_pH:\n",
        "            print(\"ALERTA: pH acima do limite! Valor medido: {pH}\")\n",
        "if turbidez > limite_turbidez:\n",
        "            print(\"ALERTA: Turbidez acima do limite! Valor medido: {turbidez}\")\n",
        ""
      ],
      "metadata": {
        "colab": {
          "base_uri": "https://localhost:8080/"
        },
        "id": "9DMAgMAV4elr",
        "outputId": "073b7c46-fc05-4290-e884-13995782c2cd"
      },
      "execution_count": 1,
      "outputs": [
        {
          "output_type": "stream",
          "name": "stdout",
          "text": [
            "Teste de qualidade\n",
            "ALERTA: pH acima do limite! Valor medido: {pH}\n",
            "ALERTA: Turbidez acima do limite! Valor medido: {turbidez}\n"
          ]
        }
      ]
    },
    {
      "cell_type": "code",
      "source": [
        "numero = 1\n",
        "soma = 1\n",
        "while numero <= 100:\n",
        "    soma += numero\n",
        "    numero += 1\n",
        "    print(\"A soma dos números de 1 a 100 é:\", soma)\n",
        "\n"
      ],
      "metadata": {
        "id": "GlZ_JWa25VaP",
        "outputId": "631d992b-a908-444a-c51c-6a85553c4d77",
        "colab": {
          "base_uri": "https://localhost:8080/"
        }
      },
      "execution_count": 6,
      "outputs": [
        {
          "output_type": "stream",
          "name": "stdout",
          "text": [
            "A soma dos números de 1 a 100 é: 2\n",
            "A soma dos números de 1 a 100 é: 4\n",
            "A soma dos números de 1 a 100 é: 7\n",
            "A soma dos números de 1 a 100 é: 11\n",
            "A soma dos números de 1 a 100 é: 16\n",
            "A soma dos números de 1 a 100 é: 22\n",
            "A soma dos números de 1 a 100 é: 29\n",
            "A soma dos números de 1 a 100 é: 37\n",
            "A soma dos números de 1 a 100 é: 46\n",
            "A soma dos números de 1 a 100 é: 56\n",
            "A soma dos números de 1 a 100 é: 67\n",
            "A soma dos números de 1 a 100 é: 79\n",
            "A soma dos números de 1 a 100 é: 92\n",
            "A soma dos números de 1 a 100 é: 106\n",
            "A soma dos números de 1 a 100 é: 121\n",
            "A soma dos números de 1 a 100 é: 137\n",
            "A soma dos números de 1 a 100 é: 154\n",
            "A soma dos números de 1 a 100 é: 172\n",
            "A soma dos números de 1 a 100 é: 191\n",
            "A soma dos números de 1 a 100 é: 211\n",
            "A soma dos números de 1 a 100 é: 232\n",
            "A soma dos números de 1 a 100 é: 254\n",
            "A soma dos números de 1 a 100 é: 277\n",
            "A soma dos números de 1 a 100 é: 301\n",
            "A soma dos números de 1 a 100 é: 326\n",
            "A soma dos números de 1 a 100 é: 352\n",
            "A soma dos números de 1 a 100 é: 379\n",
            "A soma dos números de 1 a 100 é: 407\n",
            "A soma dos números de 1 a 100 é: 436\n",
            "A soma dos números de 1 a 100 é: 466\n",
            "A soma dos números de 1 a 100 é: 497\n",
            "A soma dos números de 1 a 100 é: 529\n",
            "A soma dos números de 1 a 100 é: 562\n",
            "A soma dos números de 1 a 100 é: 596\n",
            "A soma dos números de 1 a 100 é: 631\n",
            "A soma dos números de 1 a 100 é: 667\n",
            "A soma dos números de 1 a 100 é: 704\n",
            "A soma dos números de 1 a 100 é: 742\n",
            "A soma dos números de 1 a 100 é: 781\n",
            "A soma dos números de 1 a 100 é: 821\n",
            "A soma dos números de 1 a 100 é: 862\n",
            "A soma dos números de 1 a 100 é: 904\n",
            "A soma dos números de 1 a 100 é: 947\n",
            "A soma dos números de 1 a 100 é: 991\n",
            "A soma dos números de 1 a 100 é: 1036\n",
            "A soma dos números de 1 a 100 é: 1082\n",
            "A soma dos números de 1 a 100 é: 1129\n",
            "A soma dos números de 1 a 100 é: 1177\n",
            "A soma dos números de 1 a 100 é: 1226\n",
            "A soma dos números de 1 a 100 é: 1276\n",
            "A soma dos números de 1 a 100 é: 1327\n",
            "A soma dos números de 1 a 100 é: 1379\n",
            "A soma dos números de 1 a 100 é: 1432\n",
            "A soma dos números de 1 a 100 é: 1486\n",
            "A soma dos números de 1 a 100 é: 1541\n",
            "A soma dos números de 1 a 100 é: 1597\n",
            "A soma dos números de 1 a 100 é: 1654\n",
            "A soma dos números de 1 a 100 é: 1712\n",
            "A soma dos números de 1 a 100 é: 1771\n",
            "A soma dos números de 1 a 100 é: 1831\n",
            "A soma dos números de 1 a 100 é: 1892\n",
            "A soma dos números de 1 a 100 é: 1954\n",
            "A soma dos números de 1 a 100 é: 2017\n",
            "A soma dos números de 1 a 100 é: 2081\n",
            "A soma dos números de 1 a 100 é: 2146\n",
            "A soma dos números de 1 a 100 é: 2212\n",
            "A soma dos números de 1 a 100 é: 2279\n",
            "A soma dos números de 1 a 100 é: 2347\n",
            "A soma dos números de 1 a 100 é: 2416\n",
            "A soma dos números de 1 a 100 é: 2486\n",
            "A soma dos números de 1 a 100 é: 2557\n",
            "A soma dos números de 1 a 100 é: 2629\n",
            "A soma dos números de 1 a 100 é: 2702\n",
            "A soma dos números de 1 a 100 é: 2776\n",
            "A soma dos números de 1 a 100 é: 2851\n",
            "A soma dos números de 1 a 100 é: 2927\n",
            "A soma dos números de 1 a 100 é: 3004\n",
            "A soma dos números de 1 a 100 é: 3082\n",
            "A soma dos números de 1 a 100 é: 3161\n",
            "A soma dos números de 1 a 100 é: 3241\n",
            "A soma dos números de 1 a 100 é: 3322\n",
            "A soma dos números de 1 a 100 é: 3404\n",
            "A soma dos números de 1 a 100 é: 3487\n",
            "A soma dos números de 1 a 100 é: 3571\n",
            "A soma dos números de 1 a 100 é: 3656\n",
            "A soma dos números de 1 a 100 é: 3742\n",
            "A soma dos números de 1 a 100 é: 3829\n",
            "A soma dos números de 1 a 100 é: 3917\n",
            "A soma dos números de 1 a 100 é: 4006\n",
            "A soma dos números de 1 a 100 é: 4096\n",
            "A soma dos números de 1 a 100 é: 4187\n",
            "A soma dos números de 1 a 100 é: 4279\n",
            "A soma dos números de 1 a 100 é: 4372\n",
            "A soma dos números de 1 a 100 é: 4466\n",
            "A soma dos números de 1 a 100 é: 4561\n",
            "A soma dos números de 1 a 100 é: 4657\n",
            "A soma dos números de 1 a 100 é: 4754\n",
            "A soma dos números de 1 a 100 é: 4852\n",
            "A soma dos números de 1 a 100 é: 4951\n",
            "A soma dos números de 1 a 100 é: 5051\n"
          ]
        }
      ]
    },
    {
      "cell_type": "code",
      "source": [
        "for numero in range(1, 51):\n",
        "    if numero % 2 != 0:\n",
        "        print(numero)"
      ],
      "metadata": {
        "id": "lGJ9_AyBux24",
        "outputId": "47dcd48e-feea-4e65-b874-0f9a4a60d4a1",
        "colab": {
          "base_uri": "https://localhost:8080/"
        }
      },
      "execution_count": 8,
      "outputs": [
        {
          "output_type": "stream",
          "name": "stdout",
          "text": [
            "1\n",
            "3\n",
            "5\n",
            "7\n",
            "9\n",
            "11\n",
            "13\n",
            "15\n",
            "17\n",
            "19\n",
            "21\n",
            "23\n",
            "25\n",
            "27\n",
            "29\n",
            "31\n",
            "33\n",
            "35\n",
            "37\n",
            "39\n",
            "41\n",
            "43\n",
            "45\n",
            "47\n",
            "49\n"
          ]
        }
      ]
    }
  ]
}