{
  "nbformat": 4,
  "nbformat_minor": 0,
  "metadata": {
    "colab": {
      "provenance": [],
      "authorship_tag": "ABX9TyPeMAezWGLKTu343UkL0e7F",
      "include_colab_link": true
    },
    "kernelspec": {
      "name": "python3",
      "display_name": "Python 3"
    },
    "language_info": {
      "name": "python"
    }
  },
  "cells": [
    {
      "cell_type": "markdown",
      "metadata": {
        "id": "view-in-github",
        "colab_type": "text"
      },
      "source": [
        "<a href=\"https://colab.research.google.com/github/joserevoredo/2024.1-Algoritmos-e-Estruturas-de-Dados-Jos-Revoredo-/blob/main/Untitled0.ipynb\" target=\"_parent\"><img src=\"https://colab.research.google.com/assets/colab-badge.svg\" alt=\"Open In Colab\"/></a>"
      ]
    },
    {
      "cell_type": "code",
      "execution_count": 9,
      "metadata": {
        "colab": {
          "base_uri": "https://localhost:8080/"
        },
        "id": "iaVRGUqoqeMV",
        "outputId": "bea91ff2-dbe0-41ba-adad-40c3630cb0e8"
      },
      "outputs": [
        {
          "output_type": "stream",
          "name": "stdout",
          "text": [
            "Bem vindo a Calculadora de IMC\n",
            "seu imc é de:\n",
            "23.437499999999996\n",
            "Você está Saudável.\n",
            "Parabéns!\n"
          ]
        }
      ],
      "source": [
        "print (\"Bem vindo a Calculadora de IMC\")\n",
        "\n",
        "peso = 60\n",
        "altura = 1.60\n",
        "\n",
        "\n",
        "imc = (peso / (altura * altura))\n",
        "print(\"seu imc é de:\")\n",
        "print (imc)\n",
        "if imc < 16:\n",
        "\tprint(\"Seu estado é de Magreza grave\\nProcure um médico ou nutricionista.\")\n",
        "elif imc < 17:\n",
        "\tprint(\"Seu estado é de Magreza moderada\\nPrecisa rever sua alimentação.\")\n",
        "elif imc < 18.5:\n",
        "\tprint(\"Seu estado é de Magreza leve\\nPrecisa rever sua alimentação.\")\n",
        "elif imc < 25:\n",
        "\tprint(\"Você está Saudável.\\nParabéns!\")\n",
        "elif imc < 30:\n",
        "\tprint(\"Seu estado é de Sobrepeso\\nPrecisa rever sua alimentação.\")\n",
        "elif imc < 35:\n",
        "\tprint(\"Seu estado é de Obesidade Grau I\\nProcure um médico ou nutricionista.\")\n",
        "elif imc < 40:\n",
        "\tprint(\"Seu estado é de Obesidade Grau II (severa)\\nProcure um médico ou nutricionista.\")\n",
        "else:\n",
        "\tprint(\"Seu estado é de Obesidade Grau III (mórbida)\\nProcure um médico ou nutricionista.\")"
      ]
    }
  ]
}