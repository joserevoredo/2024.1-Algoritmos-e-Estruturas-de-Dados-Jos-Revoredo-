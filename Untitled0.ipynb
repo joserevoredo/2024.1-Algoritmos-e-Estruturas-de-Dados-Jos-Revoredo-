{
  "nbformat": 4,
  "nbformat_minor": 0,
  "metadata": {
    "colab": {
      "provenance": [],
      "authorship_tag": "ABX9TyOp97v/Kl3h+s4m5CFdq9rG",
      "include_colab_link": true
    },
    "kernelspec": {
      "name": "python3",
      "display_name": "Python 3"
    },
    "language_info": {
      "name": "python"
    }
  },
  "cells": [
    {
      "cell_type": "markdown",
      "metadata": {
        "id": "view-in-github",
        "colab_type": "text"
      },
      "source": [
        "<a href=\"https://colab.research.google.com/github/joserevoredo/2024.1-Algoritmos-e-Estruturas-de-Dados-Jos-Revoredo-/blob/main/Untitled0.ipynb\" target=\"_parent\"><img src=\"https://colab.research.google.com/assets/colab-badge.svg\" alt=\"Open In Colab\"/></a>"
      ]
    },
    {
      "cell_type": "code",
      "execution_count": null,
      "metadata": {
        "colab": {
          "base_uri": "https://localhost:8080/"
        },
        "id": "iaVRGUqoqeMV",
        "outputId": "bea91ff2-dbe0-41ba-adad-40c3630cb0e8"
      },
      "outputs": [
        {
          "output_type": "stream",
          "name": "stdout",
          "text": [
            "Bem vindo a Calculadora de IMC\n",
            "seu imc é de:\n",
            "23.437499999999996\n",
            "Você está Saudável.\n",
            "Parabéns!\n"
          ]
        }
      ],
      "source": [
        "print (\"Bem vindo a Calculadora de IMC\")\n",
        "\n",
        "peso = 60\n",
        "altura = 1.60\n",
        "\n",
        "\n",
        "imc = (peso / (altura * altura))\n",
        "print(\"seu imc é de:\")\n",
        "print (imc)\n",
        "if imc < 16:\n",
        "\tprint(\"Seu estado é de Magreza grave\\nProcure um médico ou nutricionista.\")\n",
        "elif imc < 17:\n",
        "\tprint(\"Seu estado é de Magreza moderada\\nPrecisa rever sua alimentação.\")\n",
        "elif imc < 18.5:\n",
        "\tprint(\"Seu estado é de Magreza leve\\nPrecisa rever sua alimentação.\")\n",
        "elif imc < 25:\n",
        "\tprint(\"Você está Saudável.\\nParabéns!\")\n",
        "elif imc < 30:\n",
        "\tprint(\"Seu estado é de Sobrepeso\\nPrecisa rever sua alimentação.\")\n",
        "elif imc < 35:\n",
        "\tprint(\"Seu estado é de Obesidade Grau I\\nProcure um médico ou nutricionista.\")\n",
        "elif imc < 40:\n",
        "\tprint(\"Seu estado é de Obesidade Grau II (severa)\\nProcure um médico ou nutricionista.\")\n",
        "else:\n",
        "\tprint(\"Seu estado é de Obesidade Grau III (mórbida)\\nProcure um médico ou nutricionista.\")"
      ]
    },
    {
      "cell_type": "code",
      "source": [
        "numero=19\n",
        "if numero % 2 == 0:\n",
        "    print(f'{numero} é par.')\n",
        "\n",
        "else:\n",
        "    print(f'{numero} é impar.')"
      ],
      "metadata": {
        "id": "BR0wTtyOz4Cj",
        "outputId": "e177fe7c-e8ed-473c-e3d3-be329b5e641d",
        "colab": {
          "base_uri": "https://localhost:8080/"
        }
      },
      "execution_count": null,
      "outputs": [
        {
          "output_type": "stream",
          "name": "stdout",
          "text": [
            "19 é impar.\n"
          ]
        }
      ]
    },
    {
      "cell_type": "code",
      "source": [
        "temperatura_celsius= 20\n",
        "temperatura_fahrenheit = temperatura_celsius * 9/5 + 32\n",
        "print (temperatura_fahrenheit)"
      ],
      "metadata": {
        "id": "r0zl1IHp0S2L",
        "outputId": "fd080b71-a5f1-48f5-f585-ff4c0105a9bd",
        "colab": {
          "base_uri": "https://localhost:8080/"
        }
      },
      "execution_count": null,
      "outputs": [
        {
          "output_type": "stream",
          "name": "stdout",
          "text": [
            "68.0\n"
          ]
        }
      ]
    },
    {
      "cell_type": "code",
      "source": [
        "numero =10\n",
        "print(f\"Tabuada de multiplicação do número {numero}:\")\n",
        "for i in range(1, 11):\n",
        "    resultado = numero * i\n",
        "    print(f\"{numero} x {i} = {resultado}\")"
      ],
      "metadata": {
        "id": "kpzreOeR2DV_",
        "outputId": "f1943556-910d-4ad1-fa0d-675f5218a5d3",
        "colab": {
          "base_uri": "https://localhost:8080/"
        }
      },
      "execution_count": null,
      "outputs": [
        {
          "output_type": "stream",
          "name": "stdout",
          "text": [
            "Tabuada de multiplicação do número 10:\n",
            "10 x 1 = 10\n",
            "10 x 2 = 20\n",
            "10 x 3 = 30\n",
            "10 x 4 = 40\n",
            "10 x 5 = 50\n",
            "10 x 6 = 60\n",
            "10 x 7 = 70\n",
            "10 x 8 = 80\n",
            "10 x 9 = 90\n",
            "10 x 10 = 100\n"
          ]
        }
      ]
    },
    {
      "cell_type": "code",
      "source": [
        "nota1 = 10\n",
        "nota2 = 10\n",
        "\n",
        "pond1 = 2\n",
        "pond2 = 3\n",
        "\n",
        "\n",
        "media = (nota1 * pond1 + nota2 * pond2) / (pond1 + pond2)\n",
        "\n",
        "print (media)\n"
      ],
      "metadata": {
        "id": "AhdBLDyG2O0M",
        "outputId": "778ed5c6-a59d-4e1b-c066-5cd6cf97844f",
        "colab": {
          "base_uri": "https://localhost:8080/"
        }
      },
      "execution_count": null,
      "outputs": [
        {
          "output_type": "stream",
          "name": "stdout",
          "text": [
            "10.0\n"
          ]
        }
      ]
    },
    {
      "cell_type": "code",
      "source": [
        "ano = 2021\n",
        "\n",
        "# Verifica se o ano é bissexto\n",
        "if (ano % 4 == 0 and ano % 100 != 0) or (ano % 400 == 0):\n",
        "    print(f\"O ano {ano} é bissexto.\")\n",
        "else:\n",
        "    print(f\"O ano {ano} não é bissexto.\")"
      ],
      "metadata": {
        "id": "zz0B-TBo2n28",
        "outputId": "fdc56ed9-b010-43ca-b1fc-68e88e7fd619",
        "colab": {
          "base_uri": "https://localhost:8080/"
        }
      },
      "execution_count": null,
      "outputs": [
        {
          "output_type": "stream",
          "name": "stdout",
          "text": [
            "O ano 2021 não é bissexto.\n"
          ]
        }
      ]
    },
    {
      "cell_type": "code",
      "source": [
        "def conta_vogais(string):\n",
        "    string = string.lower() # para que a comparação não seja sensível a maiuscula/minuscula\n",
        "    result = {}\n",
        "    vogais = 'aeiou'\n",
        "    for i in vogais:\n",
        "        if i in string:\n",
        "            result[i] = string.count(i)\n",
        "    return result\n",
        "\n",
        "print(conta_vogais('olaaa'))"
      ],
      "metadata": {
        "id": "-0eux5GI3A70",
        "outputId": "d2f1bf9b-83f6-41cc-8325-02711a3b54fb",
        "colab": {
          "base_uri": "https://localhost:8080/"
        }
      },
      "execution_count": null,
      "outputs": [
        {
          "output_type": "stream",
          "name": "stdout",
          "text": [
            "{'a': 3, 'o': 1}\n"
          ]
        }
      ]
    },
    {
      "cell_type": "code",
      "source": [
        "def calcular_fatorial(6):\n",
        "    fatorial = 1\n",
        "    for i in range(1, 6 + 1):\n",
        "        fatorial *= i\n",
        "    return fatorial\n",
        ""
      ],
      "metadata": {
        "id": "_Bh25DiI4E_m",
        "outputId": "8067c971-b09e-44f0-a9f4-3385e237ab4a",
        "colab": {
          "base_uri": "https://localhost:8080/",
          "height": 106
        }
      },
      "execution_count": 3,
      "outputs": [
        {
          "output_type": "error",
          "ename": "SyntaxError",
          "evalue": "invalid syntax (<ipython-input-3-fc566f8f2dea>, line 1)",
          "traceback": [
            "\u001b[0;36m  File \u001b[0;32m\"<ipython-input-3-fc566f8f2dea>\"\u001b[0;36m, line \u001b[0;32m1\u001b[0m\n\u001b[0;31m    def calcular_fatorial(6):\u001b[0m\n\u001b[0m                          ^\u001b[0m\n\u001b[0;31mSyntaxError\u001b[0m\u001b[0;31m:\u001b[0m invalid syntax\n"
          ]
        }
      ]
    },
    {
      "cell_type": "code",
      "source": [
        "def soma_numeros_pares(10, 100):\n",
        "    soma = 0\n",
        "    for num in range(10, 100):\n",
        "        if num % 2 == 0:  # Verifica se o número é par\n",
        "            soma += num\n",
        "    return soma\n"
      ],
      "metadata": {
        "id": "QfmTyjWXkDbX",
        "outputId": "a465549e-d1ca-48bf-aff1-dc4249011353",
        "colab": {
          "base_uri": "https://localhost:8080/",
          "height": 106
        }
      },
      "execution_count": 5,
      "outputs": [
        {
          "output_type": "error",
          "ename": "SyntaxError",
          "evalue": "invalid syntax (<ipython-input-5-3bfe1923e649>, line 1)",
          "traceback": [
            "\u001b[0;36m  File \u001b[0;32m\"<ipython-input-5-3bfe1923e649>\"\u001b[0;36m, line \u001b[0;32m1\u001b[0m\n\u001b[0;31m    def soma_numeros_pares(10, 100):\u001b[0m\n\u001b[0m                           ^\u001b[0m\n\u001b[0;31mSyntaxError\u001b[0m\u001b[0;31m:\u001b[0m invalid syntax\n"
          ]
        }
      ]
    },
    {
      "cell_type": "code",
      "source": [
        "def verificar_primo(numero):\n",
        "    if 9 <= 1:\n",
        "        return False\n",
        "    for i in range(2, int(9**0.5) + 1):\n",
        "        if 9 % i == 0:\n",
        "            return False\n",
        "    return True\n"
      ],
      "metadata": {
        "id": "8phbr-gLkZ5w"
      },
      "execution_count": 7,
      "outputs": []
    }
  ]
}